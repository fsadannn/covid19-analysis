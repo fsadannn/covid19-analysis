{
 "cells": [
  {
   "cell_type": "markdown",
   "metadata": {},
   "source": [
    "Cargando los datos y construyendo la serie de tiempo de Cuba"
   ]
  },
  {
   "cell_type": "code",
   "execution_count": 2,
   "metadata": {
    "collapsed": false,
    "jupyter": {
     "outputs_hidden": false
    }
   },
   "outputs": [
    {
     "data": {
      "text/plain": [
       "[3,\n",
       " 3,\n",
       " 4,\n",
       " 4,\n",
       " 4,\n",
       " 5,\n",
       " 7,\n",
       " 11,\n",
       " 16,\n",
       " 25,\n",
       " 35,\n",
       " 40,\n",
       " 48,\n",
       " 57,\n",
       " 67,\n",
       " 80,\n",
       " 119,\n",
       " 139,\n",
       " 170,\n",
       " 186,\n",
       " 212]"
      ]
     },
     "execution_count": 2,
     "metadata": {},
     "output_type": "execute_result"
    }
   ],
   "source": [
    "import json\n",
    "\n",
    "with open(\"../data/covid19-cuba.json\") as fp:\n",
    "    data = json.load(fp)\n",
    "\n",
    "cases_per_day = {k:len(v.get('diagnosticados', [])) for k,v in data['casos']['dias'].items()}\n",
    "\n",
    "ts_cuba = []\n",
    "\n",
    "t = 0\n",
    "for _,v in cases_per_day.items():\n",
    "    t += v\n",
    "    ts_cuba.append(t)\n",
    "    \n",
    "ts_cuba.extend([212])\n",
    "ts_cuba"
   ]
  },
  {
   "cell_type": "markdown",
   "metadata": {},
   "source": [
    "Cargando los datos de los demás países (vienen en el mismo formato que tenemos antes)"
   ]
  },
  {
   "cell_type": "code",
   "execution_count": 3,
   "metadata": {},
   "outputs": [],
   "source": [
    "with open(\"../data/paises-info-dias.json\") as fp:\n",
    "    countries_data = json.load(fp)"
   ]
  },
  {
   "cell_type": "markdown",
   "metadata": {},
   "source": [
    "Esta función calcula una \"similaridad\" entre par de series, la de Cuba, y otra objetivo. En general se usa una media de error computando los residuales día a día y ponderándolos de cierta forma. Los parámetros son:\n",
    "\n",
    "* `exponent`: $1, 2, ...$ es el exponente de la métrica, e.j., si es $2$ será un error cuadrático medio.\n",
    "* `normalize`: determina si el residual de cada día se normaliza contra el valor de dicho día. Esto es para lograr, por ejemplo, que una diferencia entre $95$ y $100$ no sea considerada mayor que una diferencia entre $2$ y $4$. Si vale `False` se toman los residuales absolutos."
   ]
  },
  {
   "cell_type": "code",
   "execution_count": 4,
   "metadata": {},
   "outputs": [],
   "source": [
    "def similarity(country, exponent=1, normalize=True):\n",
    "    if len(country) < len(ts_cuba):\n",
    "        return 1e50\n",
    "    \n",
    "    min_len = min(len(ts_cuba), len(country))\n",
    "    cuba = ts_cuba[0:min_len]\n",
    "    country = country[0:min_len]\n",
    "    \n",
    "    def metric(vi, vj):\n",
    "        t = abs(vi - vj)\n",
    "        b = abs(vi) if normalize else 1\n",
    "        return (t / b) ** exponent\n",
    "    \n",
    "    residuals = [metric(vi, vj) for vi,vj in zip(cuba, country)]\n",
    "    msqe = sum(residuals) / len(residuals)\n",
    "    \n",
    "    return msqe\n",
    "\n",
    "def sliding_similarity(country, exponent=1, normalize=True, window_size=15):\n",
    "    min_sim = 1e50\n",
    "    min_sample = None\n",
    "    \n",
    "    for i in range(window_size+1):\n",
    "        sample = country[i:]\n",
    "        \n",
    "        if len(sample) >= len(ts_cuba):\n",
    "            new_sim = similarity(sample, exponent, normalize)\n",
    "            \n",
    "            if new_sim < min_sim:\n",
    "                min_sim = new_sim\n",
    "                min_sample = sample            \n",
    "    \n",
    "    return min_sim, min_sample"
   ]
  },
  {
   "cell_type": "markdown",
   "metadata": {},
   "source": [
    "### Paises"
   ]
  },
  {
   "cell_type": "code",
   "execution_count": 5,
   "metadata": {
    "collapsed": false,
    "jupyter": {
     "outputs_hidden": false
    }
   },
   "outputs": [
    {
     "data": {
      "text/html": [
       "<div>\n",
       "<style scoped>\n",
       "    .dataframe tbody tr th:only-of-type {\n",
       "        vertical-align: middle;\n",
       "    }\n",
       "\n",
       "    .dataframe tbody tr th {\n",
       "        vertical-align: top;\n",
       "    }\n",
       "\n",
       "    .dataframe thead th {\n",
       "        text-align: right;\n",
       "    }\n",
       "</style>\n",
       "<table border=\"1\" class=\"dataframe\">\n",
       "  <thead>\n",
       "    <tr style=\"text-align: right;\">\n",
       "      <th></th>\n",
       "      <th>Country</th>\n",
       "      <th>Population</th>\n",
       "      <th>Yearly change</th>\n",
       "      <th>Net change</th>\n",
       "      <th>Density</th>\n",
       "      <th>Land area</th>\n",
       "      <th>Migrants</th>\n",
       "      <th>Fertility</th>\n",
       "      <th>Med. age</th>\n",
       "      <th>Urban</th>\n",
       "      <th>World share</th>\n",
       "    </tr>\n",
       "  </thead>\n",
       "  <tbody>\n",
       "    <tr>\n",
       "      <th>0</th>\n",
       "      <td>China</td>\n",
       "      <td>1439323776</td>\n",
       "      <td>0.39</td>\n",
       "      <td>5540090</td>\n",
       "      <td>153</td>\n",
       "      <td>9388211</td>\n",
       "      <td>-348399.0</td>\n",
       "      <td>1.7</td>\n",
       "      <td>38</td>\n",
       "      <td>61</td>\n",
       "      <td>18.47</td>\n",
       "    </tr>\n",
       "    <tr>\n",
       "      <th>1</th>\n",
       "      <td>India</td>\n",
       "      <td>1380004385</td>\n",
       "      <td>0.99</td>\n",
       "      <td>13586631</td>\n",
       "      <td>464</td>\n",
       "      <td>2973190</td>\n",
       "      <td>-532687.0</td>\n",
       "      <td>2.2</td>\n",
       "      <td>28</td>\n",
       "      <td>35</td>\n",
       "      <td>17.70</td>\n",
       "    </tr>\n",
       "    <tr>\n",
       "      <th>2</th>\n",
       "      <td>United States</td>\n",
       "      <td>331002651</td>\n",
       "      <td>0.59</td>\n",
       "      <td>1937734</td>\n",
       "      <td>36</td>\n",
       "      <td>9147420</td>\n",
       "      <td>954806.0</td>\n",
       "      <td>1.8</td>\n",
       "      <td>38</td>\n",
       "      <td>83</td>\n",
       "      <td>4.25</td>\n",
       "    </tr>\n",
       "    <tr>\n",
       "      <th>3</th>\n",
       "      <td>Indonesia</td>\n",
       "      <td>273523615</td>\n",
       "      <td>1.07</td>\n",
       "      <td>2898047</td>\n",
       "      <td>151</td>\n",
       "      <td>1811570</td>\n",
       "      <td>-98955.0</td>\n",
       "      <td>2.3</td>\n",
       "      <td>30</td>\n",
       "      <td>56</td>\n",
       "      <td>3.51</td>\n",
       "    </tr>\n",
       "    <tr>\n",
       "      <th>4</th>\n",
       "      <td>Pakistan</td>\n",
       "      <td>220892340</td>\n",
       "      <td>2.00</td>\n",
       "      <td>4327022</td>\n",
       "      <td>287</td>\n",
       "      <td>770880</td>\n",
       "      <td>-233379.0</td>\n",
       "      <td>3.6</td>\n",
       "      <td>23</td>\n",
       "      <td>35</td>\n",
       "      <td>2.83</td>\n",
       "    </tr>\n",
       "    <tr>\n",
       "      <th>...</th>\n",
       "      <td>...</td>\n",
       "      <td>...</td>\n",
       "      <td>...</td>\n",
       "      <td>...</td>\n",
       "      <td>...</td>\n",
       "      <td>...</td>\n",
       "      <td>...</td>\n",
       "      <td>...</td>\n",
       "      <td>...</td>\n",
       "      <td>...</td>\n",
       "      <td>...</td>\n",
       "    </tr>\n",
       "    <tr>\n",
       "      <th>230</th>\n",
       "      <td>Montserrat</td>\n",
       "      <td>4992</td>\n",
       "      <td>0.06</td>\n",
       "      <td>3</td>\n",
       "      <td>50</td>\n",
       "      <td>100</td>\n",
       "      <td>NaN</td>\n",
       "      <td>0.0</td>\n",
       "      <td>0</td>\n",
       "      <td>10</td>\n",
       "      <td>0.00</td>\n",
       "    </tr>\n",
       "    <tr>\n",
       "      <th>231</th>\n",
       "      <td>Falkland Islands</td>\n",
       "      <td>3480</td>\n",
       "      <td>3.05</td>\n",
       "      <td>103</td>\n",
       "      <td>0</td>\n",
       "      <td>12170</td>\n",
       "      <td>NaN</td>\n",
       "      <td>0.0</td>\n",
       "      <td>0</td>\n",
       "      <td>66</td>\n",
       "      <td>0.00</td>\n",
       "    </tr>\n",
       "    <tr>\n",
       "      <th>232</th>\n",
       "      <td>Niue</td>\n",
       "      <td>1626</td>\n",
       "      <td>0.68</td>\n",
       "      <td>11</td>\n",
       "      <td>6</td>\n",
       "      <td>260</td>\n",
       "      <td>NaN</td>\n",
       "      <td>0.0</td>\n",
       "      <td>0</td>\n",
       "      <td>46</td>\n",
       "      <td>0.00</td>\n",
       "    </tr>\n",
       "    <tr>\n",
       "      <th>233</th>\n",
       "      <td>Tokelau</td>\n",
       "      <td>1357</td>\n",
       "      <td>1.27</td>\n",
       "      <td>17</td>\n",
       "      <td>136</td>\n",
       "      <td>10</td>\n",
       "      <td>NaN</td>\n",
       "      <td>0.0</td>\n",
       "      <td>0</td>\n",
       "      <td>0</td>\n",
       "      <td>0.00</td>\n",
       "    </tr>\n",
       "    <tr>\n",
       "      <th>234</th>\n",
       "      <td>Holy See</td>\n",
       "      <td>801</td>\n",
       "      <td>0.25</td>\n",
       "      <td>2</td>\n",
       "      <td>2003</td>\n",
       "      <td>0</td>\n",
       "      <td>NaN</td>\n",
       "      <td>0.0</td>\n",
       "      <td>0</td>\n",
       "      <td>0</td>\n",
       "      <td>0.00</td>\n",
       "    </tr>\n",
       "  </tbody>\n",
       "</table>\n",
       "<p>235 rows × 11 columns</p>\n",
       "</div>"
      ],
      "text/plain": [
       "              Country  Population  Yearly change  Net change  Density  \\\n",
       "0               China  1439323776           0.39     5540090      153   \n",
       "1               India  1380004385           0.99    13586631      464   \n",
       "2       United States   331002651           0.59     1937734       36   \n",
       "3           Indonesia   273523615           1.07     2898047      151   \n",
       "4            Pakistan   220892340           2.00     4327022      287   \n",
       "..                ...         ...            ...         ...      ...   \n",
       "230        Montserrat        4992           0.06           3       50   \n",
       "231  Falkland Islands        3480           3.05         103        0   \n",
       "232              Niue        1626           0.68          11        6   \n",
       "233           Tokelau        1357           1.27          17      136   \n",
       "234          Holy See         801           0.25           2     2003   \n",
       "\n",
       "     Land area  Migrants  Fertility  Med. age  Urban  World share  \n",
       "0      9388211 -348399.0        1.7        38     61        18.47  \n",
       "1      2973190 -532687.0        2.2        28     35        17.70  \n",
       "2      9147420  954806.0        1.8        38     83         4.25  \n",
       "3      1811570  -98955.0        2.3        30     56         3.51  \n",
       "4       770880 -233379.0        3.6        23     35         2.83  \n",
       "..         ...       ...        ...       ...    ...          ...  \n",
       "230        100       NaN        0.0         0     10         0.00  \n",
       "231      12170       NaN        0.0         0     66         0.00  \n",
       "232        260       NaN        0.0         0     46         0.00  \n",
       "233         10       NaN        0.0         0      0         0.00  \n",
       "234          0       NaN        0.0         0      0         0.00  \n",
       "\n",
       "[235 rows x 11 columns]"
      ]
     },
     "execution_count": 5,
     "metadata": {},
     "output_type": "execute_result"
    }
   ],
   "source": [
    "import pandas as pd\n",
    "\n",
    "countries_stats = pd.read_csv(\"../data/world_demographics.tsv\", sep=\"\\t\")\n",
    "countries_stats"
   ]
  },
  {
   "cell_type": "code",
   "execution_count": 6,
   "metadata": {
    "scrolled": true
   },
   "outputs": [],
   "source": [
    "stats_dict = countries_stats.set_index('Country').to_dict('index')"
   ]
  },
  {
   "cell_type": "code",
   "execution_count": 7,
   "metadata": {
    "collapsed": false,
    "jupyter": {
     "outputs_hidden": false
    }
   },
   "outputs": [
    {
     "data": {
      "text/plain": [
       "['Hungary',\n",
       " 'Portugal',\n",
       " 'Austria',\n",
       " 'United Arab Emirates',\n",
       " 'Greece',\n",
       " 'Belarus',\n",
       " 'Costa Rica',\n",
       " 'Slovakia',\n",
       " 'Tunisia',\n",
       " 'Azerbaijan',\n",
       " 'Sweden',\n",
       " 'Armenia',\n",
       " 'Ireland',\n",
       " 'Croatia',\n",
       " 'North Macedonia',\n",
       " 'Switzerland',\n",
       " 'Jordan',\n",
       " 'Finland',\n",
       " 'Moldova',\n",
       " 'Honduras',\n",
       " 'Norway',\n",
       " 'Brunei',\n",
       " 'Cyprus',\n",
       " 'Lithuania',\n",
       " 'Bosnia and Herzegovina',\n",
       " 'Chile',\n",
       " 'Georgia',\n",
       " 'Latvia',\n",
       " 'New Zealand',\n",
       " 'Montenegro']"
      ]
     },
     "execution_count": 7,
     "metadata": {},
     "output_type": "execute_result"
    }
   ],
   "source": [
    "def country_similarity(country):\n",
    "    cuba_stats = stats_dict['Cuba']\n",
    "    country_stats = stats_dict[country]\n",
    "    \n",
    "    similarity = []\n",
    "    \n",
    "    for key in ['Population', 'Density', 'Fertility', 'Med. age', 'Urban']:\n",
    "        baseline = cuba_stats[key]\n",
    "        value = abs(country_stats[key] - baseline)/baseline\n",
    "        if value == 0:\n",
    "            return 1e50\n",
    "        similarity.append(value)\n",
    "        \n",
    "    return sum(similarity) / len(similarity)\n",
    "\n",
    "all_similarities = {c: country_similarity(c) for c in stats_dict}\n",
    "most_similar_countries = sorted(all_similarities, key=all_similarities.get)[:30]\n",
    "most_similar_countries"
   ]
  },
  {
   "cell_type": "markdown",
   "metadata": {},
   "source": [
    "Veamos ahora los países más \"parecidos\" a Cuba en términos **solamente** de la evolución actual. Nos fijaremos solo en aquellos que tengan al menos `k` días de predicciones más que Cuba."
   ]
  },
  {
   "cell_type": "code",
   "execution_count": 8,
   "metadata": {
    "collapsed": false,
    "jupyter": {
     "outputs_hidden": false
    }
   },
   "outputs": [
    {
     "name": "stdout",
     "output_type": "stream",
     "text": [
      "Cuba 0 [3, 3, 4, 4, 4, 5, 7, 11, 16, 25, 35, 40, 48, 57, 67, 80, 119, 139, 170, 186, 212]\n",
      "North Macedonia 0.19521673627338115 [3, 3, 3, 3, 7, 7, 7, 14, 14, 14, 18, 26, 35, 48, 67, 85, 115, 136, 148, 177, 201, 219, 241, 259, 285]\n",
      "Latvia 0.27324444785303126 [1, 1, 1, 2, 6, 8, 10, 10, 17, 26, 30, 34, 49, 71, 86, 111, 124, 139, 180, 197, 221, 244, 280, 305, 347, 376]\n",
      "Georgia 0.37918493905372525 [3, 3, 3, 4, 4, 4, 13, 15, 15, 24, 24, 25, 30, 33, 33, 34, 38, 40, 43, 49, 54, 61, 70, 75, 79, 83, 90, 91, 103]\n",
      "New Zealand 0.38634640526271324 [5, 5, 5, 5, 5, 5, 5, 6, 8, 8, 12, 20, 28, 39, 52, 102, 102, 155, 205, 283, 368, 451, 514, 589]\n",
      "Belarus 0.42283896333277593 [6, 6, 6, 6, 6, 6, 9, 9, 12, 27, 27, 27, 36, 36, 51, 51, 69, 76, 76, 81, 81, 86, 86, 94, 94, 94, 152]\n",
      "Jordan 0.4443192425099798 [1, 1, 1, 1, 1, 1, 1, 1, 8, 17, 34, 52, 69, 85, 85, 112, 127, 154, 172, 212, 235, 246, 259, 268]\n",
      "Lithuania 0.44819326275402377 [1, 1, 1, 1, 3, 3, 6, 8, 12, 17, 25, 27, 36, 49, 83, 143, 179, 209, 274, 299, 358, 394, 460, 491]\n",
      "Armenia 0.4892499254467146 [1, 1, 1, 1, 1, 1, 1, 1, 1, 4, 8, 18, 26, 52, 78, 84, 115, 136, 160, 194, 235, 249, 265, 290, 329, 407, 424, 482]\n",
      "Greece 0.49817362783506797 [1, 3, 4, 4, 7, 7, 7, 9, 31, 45, 46, 73, 73, 89, 99, 99, 190, 228, 331, 331, 387, 418, 418, 495, 530, 624, 695, 743, 821, 892, 966, 1061, 1156, 1212]\n",
      "Azerbaijan 0.5059376019359869 [3, 3, 3, 3, 6, 6, 9, 9, 9, 11, 11, 11, 15, 15, 23, 28, 28, 28, 44, 44, 53, 65, 72, 87, 93, 122, 165, 182, 209, 273]\n"
     ]
    }
   ],
   "source": [
    "exponent=1\n",
    "normalize=True\n",
    "window=15\n",
    "k = 7\n",
    "countries_to_analize = most_similar_countries\n",
    "\n",
    "similarities = {\n",
    "    name: sliding_similarity(values, exponent, normalize, window)\n",
    "    for name,values in countries_data['paises'].items() \n",
    "    if len(values) >= k + len(ts_cuba)\n",
    "    if name in countries_to_analize\n",
    "}\n",
    "\n",
    "print(\"Cuba\", \"0\", ts_cuba)\n",
    "\n",
    "most_similar_curves = sorted(similarities.items(), key=lambda t: t[1][0])[:10] \n",
    "\n",
    "for x, y in most_similar_curves:\n",
    "    print(x, *y)"
   ]
  },
  {
   "cell_type": "code",
   "execution_count": 9,
   "metadata": {},
   "outputs": [
    {
     "data": {
      "text/html": [
       "\n",
       "<div id=\"altair-viz-ace7711feed24d439bdbdbeff761d8cc\"></div>\n",
       "<script type=\"text/javascript\">\n",
       "  (function(spec, embedOpt){\n",
       "    const outputDiv = document.getElementById(\"altair-viz-ace7711feed24d439bdbdbeff761d8cc\");\n",
       "    const paths = {\n",
       "      \"vega\": \"https://cdn.jsdelivr.net/npm//vega@5?noext\",\n",
       "      \"vega-lib\": \"https://cdn.jsdelivr.net/npm//vega-lib?noext\",\n",
       "      \"vega-lite\": \"https://cdn.jsdelivr.net/npm//vega-lite@4.0.2?noext\",\n",
       "      \"vega-embed\": \"https://cdn.jsdelivr.net/npm//vega-embed@6?noext\",\n",
       "    };\n",
       "\n",
       "    function loadScript(lib) {\n",
       "      return new Promise(function(resolve, reject) {\n",
       "        var s = document.createElement('script');\n",
       "        s.src = paths[lib];\n",
       "        s.async = true;\n",
       "        s.onload = () => resolve(paths[lib]);\n",
       "        s.onerror = () => reject(`Error loading script: ${paths[lib]}`);\n",
       "        document.getElementsByTagName(\"head\")[0].appendChild(s);\n",
       "      });\n",
       "    }\n",
       "\n",
       "    function showError(err) {\n",
       "      outputDiv.innerHTML = `<div class=\"error\" style=\"color:red;\">${err}</div>`;\n",
       "      throw err;\n",
       "    }\n",
       "\n",
       "    function displayChart(vegaEmbed) {\n",
       "      vegaEmbed(outputDiv, spec, embedOpt)\n",
       "        .catch(err => showError(`Javascript Error: ${err.message}<br>This usually means there's a typo in your chart specification. See the javascript console for the full traceback.`));\n",
       "    }\n",
       "\n",
       "    if(typeof define === \"function\" && define.amd) {\n",
       "      requirejs.config({paths});\n",
       "      require([\"vega-embed\"], displayChart, err => showError(`Error loading script: ${err.message}`));\n",
       "    } else if (typeof vegaEmbed === \"function\") {\n",
       "      displayChart(vegaEmbed);\n",
       "    } else {\n",
       "      loadScript(\"vega\")\n",
       "        .then(() => loadScript(\"vega-lite\"))\n",
       "        .then(() => loadScript(\"vega-embed\"))\n",
       "        .catch(showError)\n",
       "        .then(() => displayChart(vegaEmbed));\n",
       "    }\n",
       "  })({\"config\": {\"view\": {\"continuousWidth\": 400, \"continuousHeight\": 300}}, \"layer\": [{\"data\": {\"name\": \"data-d496031f2de966308b48363a7ec47a01\"}, \"mark\": \"line\", \"encoding\": {\"color\": {\"type\": \"nominal\", \"field\": \"pais\"}, \"x\": {\"type\": \"quantitative\", \"field\": \"dia\"}, \"y\": {\"type\": \"quantitative\", \"field\": \"casos\"}}}, {\"data\": {\"name\": \"data-e2c8ca4bb4eb0c3fa7ae17ced8e134da\"}, \"mark\": {\"type\": \"circle\", \"fill\": \"red\", \"size\": 100}, \"encoding\": {\"x\": {\"type\": \"quantitative\", \"field\": \"dia\"}, \"y\": {\"type\": \"quantitative\", \"field\": \"casos\"}}, \"height\": 500, \"width\": 700}], \"$schema\": \"https://vega.github.io/schema/vega-lite/v4.0.2.json\", \"datasets\": {\"data-d496031f2de966308b48363a7ec47a01\": [{\"pais\": \"North Macedonia\", \"dia\": 0, \"casos\": 3}, {\"pais\": \"North Macedonia\", \"dia\": 1, \"casos\": 3}, {\"pais\": \"North Macedonia\", \"dia\": 2, \"casos\": 3}, {\"pais\": \"North Macedonia\", \"dia\": 3, \"casos\": 3}, {\"pais\": \"North Macedonia\", \"dia\": 4, \"casos\": 7}, {\"pais\": \"North Macedonia\", \"dia\": 5, \"casos\": 7}, {\"pais\": \"North Macedonia\", \"dia\": 6, \"casos\": 7}, {\"pais\": \"North Macedonia\", \"dia\": 7, \"casos\": 14}, {\"pais\": \"North Macedonia\", \"dia\": 8, \"casos\": 14}, {\"pais\": \"North Macedonia\", \"dia\": 9, \"casos\": 14}, {\"pais\": \"North Macedonia\", \"dia\": 10, \"casos\": 18}, {\"pais\": \"North Macedonia\", \"dia\": 11, \"casos\": 26}, {\"pais\": \"North Macedonia\", \"dia\": 12, \"casos\": 35}, {\"pais\": \"North Macedonia\", \"dia\": 13, \"casos\": 48}, {\"pais\": \"North Macedonia\", \"dia\": 14, \"casos\": 67}, {\"pais\": \"North Macedonia\", \"dia\": 15, \"casos\": 85}, {\"pais\": \"North Macedonia\", \"dia\": 16, \"casos\": 115}, {\"pais\": \"North Macedonia\", \"dia\": 17, \"casos\": 136}, {\"pais\": \"North Macedonia\", \"dia\": 18, \"casos\": 148}, {\"pais\": \"North Macedonia\", \"dia\": 19, \"casos\": 177}, {\"pais\": \"North Macedonia\", \"dia\": 20, \"casos\": 201}, {\"pais\": \"North Macedonia\", \"dia\": 21, \"casos\": 219}, {\"pais\": \"North Macedonia\", \"dia\": 22, \"casos\": 241}, {\"pais\": \"North Macedonia\", \"dia\": 23, \"casos\": 259}, {\"pais\": \"North Macedonia\", \"dia\": 24, \"casos\": 285}, {\"pais\": \"Latvia\", \"dia\": 0, \"casos\": 1}, {\"pais\": \"Latvia\", \"dia\": 1, \"casos\": 1}, {\"pais\": \"Latvia\", \"dia\": 2, \"casos\": 1}, {\"pais\": \"Latvia\", \"dia\": 3, \"casos\": 2}, {\"pais\": \"Latvia\", \"dia\": 4, \"casos\": 6}, {\"pais\": \"Latvia\", \"dia\": 5, \"casos\": 8}, {\"pais\": \"Latvia\", \"dia\": 6, \"casos\": 10}, {\"pais\": \"Latvia\", \"dia\": 7, \"casos\": 10}, {\"pais\": \"Latvia\", \"dia\": 8, \"casos\": 17}, {\"pais\": \"Latvia\", \"dia\": 9, \"casos\": 26}, {\"pais\": \"Latvia\", \"dia\": 10, \"casos\": 30}, {\"pais\": \"Latvia\", \"dia\": 11, \"casos\": 34}, {\"pais\": \"Latvia\", \"dia\": 12, \"casos\": 49}, {\"pais\": \"Latvia\", \"dia\": 13, \"casos\": 71}, {\"pais\": \"Latvia\", \"dia\": 14, \"casos\": 86}, {\"pais\": \"Latvia\", \"dia\": 15, \"casos\": 111}, {\"pais\": \"Latvia\", \"dia\": 16, \"casos\": 124}, {\"pais\": \"Latvia\", \"dia\": 17, \"casos\": 139}, {\"pais\": \"Latvia\", \"dia\": 18, \"casos\": 180}, {\"pais\": \"Latvia\", \"dia\": 19, \"casos\": 197}, {\"pais\": \"Latvia\", \"dia\": 20, \"casos\": 221}, {\"pais\": \"Latvia\", \"dia\": 21, \"casos\": 244}, {\"pais\": \"Latvia\", \"dia\": 22, \"casos\": 280}, {\"pais\": \"Latvia\", \"dia\": 23, \"casos\": 305}, {\"pais\": \"Latvia\", \"dia\": 24, \"casos\": 347}, {\"pais\": \"Latvia\", \"dia\": 25, \"casos\": 376}, {\"pais\": \"Georgia\", \"dia\": 0, \"casos\": 3}, {\"pais\": \"Georgia\", \"dia\": 1, \"casos\": 3}, {\"pais\": \"Georgia\", \"dia\": 2, \"casos\": 3}, {\"pais\": \"Georgia\", \"dia\": 3, \"casos\": 4}, {\"pais\": \"Georgia\", \"dia\": 4, \"casos\": 4}, {\"pais\": \"Georgia\", \"dia\": 5, \"casos\": 4}, {\"pais\": \"Georgia\", \"dia\": 6, \"casos\": 13}, {\"pais\": \"Georgia\", \"dia\": 7, \"casos\": 15}, {\"pais\": \"Georgia\", \"dia\": 8, \"casos\": 15}, {\"pais\": \"Georgia\", \"dia\": 9, \"casos\": 24}, {\"pais\": \"Georgia\", \"dia\": 10, \"casos\": 24}, {\"pais\": \"Georgia\", \"dia\": 11, \"casos\": 25}, {\"pais\": \"Georgia\", \"dia\": 12, \"casos\": 30}, {\"pais\": \"Georgia\", \"dia\": 13, \"casos\": 33}, {\"pais\": \"Georgia\", \"dia\": 14, \"casos\": 33}, {\"pais\": \"Georgia\", \"dia\": 15, \"casos\": 34}, {\"pais\": \"Georgia\", \"dia\": 16, \"casos\": 38}, {\"pais\": \"Georgia\", \"dia\": 17, \"casos\": 40}, {\"pais\": \"Georgia\", \"dia\": 18, \"casos\": 43}, {\"pais\": \"Georgia\", \"dia\": 19, \"casos\": 49}, {\"pais\": \"Georgia\", \"dia\": 20, \"casos\": 54}, {\"pais\": \"Georgia\", \"dia\": 21, \"casos\": 61}, {\"pais\": \"Georgia\", \"dia\": 22, \"casos\": 70}, {\"pais\": \"Georgia\", \"dia\": 23, \"casos\": 75}, {\"pais\": \"Georgia\", \"dia\": 24, \"casos\": 79}, {\"pais\": \"Georgia\", \"dia\": 25, \"casos\": 83}, {\"pais\": \"Georgia\", \"dia\": 26, \"casos\": 90}, {\"pais\": \"Georgia\", \"dia\": 27, \"casos\": 91}, {\"pais\": \"Georgia\", \"dia\": 28, \"casos\": 103}, {\"pais\": \"New Zealand\", \"dia\": 0, \"casos\": 5}, {\"pais\": \"New Zealand\", \"dia\": 1, \"casos\": 5}, {\"pais\": \"New Zealand\", \"dia\": 2, \"casos\": 5}, {\"pais\": \"New Zealand\", \"dia\": 3, \"casos\": 5}, {\"pais\": \"New Zealand\", \"dia\": 4, \"casos\": 5}, {\"pais\": \"New Zealand\", \"dia\": 5, \"casos\": 5}, {\"pais\": \"New Zealand\", \"dia\": 6, \"casos\": 5}, {\"pais\": \"New Zealand\", \"dia\": 7, \"casos\": 6}, {\"pais\": \"New Zealand\", \"dia\": 8, \"casos\": 8}, {\"pais\": \"New Zealand\", \"dia\": 9, \"casos\": 8}, {\"pais\": \"New Zealand\", \"dia\": 10, \"casos\": 12}, {\"pais\": \"New Zealand\", \"dia\": 11, \"casos\": 20}, {\"pais\": \"New Zealand\", \"dia\": 12, \"casos\": 28}, {\"pais\": \"New Zealand\", \"dia\": 13, \"casos\": 39}, {\"pais\": \"New Zealand\", \"dia\": 14, \"casos\": 52}, {\"pais\": \"New Zealand\", \"dia\": 15, \"casos\": 102}, {\"pais\": \"New Zealand\", \"dia\": 16, \"casos\": 102}, {\"pais\": \"New Zealand\", \"dia\": 17, \"casos\": 155}, {\"pais\": \"New Zealand\", \"dia\": 18, \"casos\": 205}, {\"pais\": \"New Zealand\", \"dia\": 19, \"casos\": 283}, {\"pais\": \"New Zealand\", \"dia\": 20, \"casos\": 368}, {\"pais\": \"New Zealand\", \"dia\": 21, \"casos\": 451}, {\"pais\": \"New Zealand\", \"dia\": 22, \"casos\": 514}, {\"pais\": \"New Zealand\", \"dia\": 23, \"casos\": 589}, {\"pais\": \"Belarus\", \"dia\": 0, \"casos\": 6}, {\"pais\": \"Belarus\", \"dia\": 1, \"casos\": 6}, {\"pais\": \"Belarus\", \"dia\": 2, \"casos\": 6}, {\"pais\": \"Belarus\", \"dia\": 3, \"casos\": 6}, {\"pais\": \"Belarus\", \"dia\": 4, \"casos\": 6}, {\"pais\": \"Belarus\", \"dia\": 5, \"casos\": 6}, {\"pais\": \"Belarus\", \"dia\": 6, \"casos\": 9}, {\"pais\": \"Belarus\", \"dia\": 7, \"casos\": 9}, {\"pais\": \"Belarus\", \"dia\": 8, \"casos\": 12}, {\"pais\": \"Belarus\", \"dia\": 9, \"casos\": 27}, {\"pais\": \"Belarus\", \"dia\": 10, \"casos\": 27}, {\"pais\": \"Belarus\", \"dia\": 11, \"casos\": 27}, {\"pais\": \"Belarus\", \"dia\": 12, \"casos\": 36}, {\"pais\": \"Belarus\", \"dia\": 13, \"casos\": 36}, {\"pais\": \"Belarus\", \"dia\": 14, \"casos\": 51}, {\"pais\": \"Belarus\", \"dia\": 15, \"casos\": 51}, {\"pais\": \"Belarus\", \"dia\": 16, \"casos\": 69}, {\"pais\": \"Belarus\", \"dia\": 17, \"casos\": 76}, {\"pais\": \"Belarus\", \"dia\": 18, \"casos\": 76}, {\"pais\": \"Belarus\", \"dia\": 19, \"casos\": 81}, {\"pais\": \"Belarus\", \"dia\": 20, \"casos\": 81}, {\"pais\": \"Belarus\", \"dia\": 21, \"casos\": 86}, {\"pais\": \"Belarus\", \"dia\": 22, \"casos\": 86}, {\"pais\": \"Belarus\", \"dia\": 23, \"casos\": 94}, {\"pais\": \"Belarus\", \"dia\": 24, \"casos\": 94}, {\"pais\": \"Belarus\", \"dia\": 25, \"casos\": 94}, {\"pais\": \"Belarus\", \"dia\": 26, \"casos\": 152}, {\"pais\": \"Jordan\", \"dia\": 0, \"casos\": 1}, {\"pais\": \"Jordan\", \"dia\": 1, \"casos\": 1}, {\"pais\": \"Jordan\", \"dia\": 2, \"casos\": 1}, {\"pais\": \"Jordan\", \"dia\": 3, \"casos\": 1}, {\"pais\": \"Jordan\", \"dia\": 4, \"casos\": 1}, {\"pais\": \"Jordan\", \"dia\": 5, \"casos\": 1}, {\"pais\": \"Jordan\", \"dia\": 6, \"casos\": 1}, {\"pais\": \"Jordan\", \"dia\": 7, \"casos\": 1}, {\"pais\": \"Jordan\", \"dia\": 8, \"casos\": 8}, {\"pais\": \"Jordan\", \"dia\": 9, \"casos\": 17}, {\"pais\": \"Jordan\", \"dia\": 10, \"casos\": 34}, {\"pais\": \"Jordan\", \"dia\": 11, \"casos\": 52}, {\"pais\": \"Jordan\", \"dia\": 12, \"casos\": 69}, {\"pais\": \"Jordan\", \"dia\": 13, \"casos\": 85}, {\"pais\": \"Jordan\", \"dia\": 14, \"casos\": 85}, {\"pais\": \"Jordan\", \"dia\": 15, \"casos\": 112}, {\"pais\": \"Jordan\", \"dia\": 16, \"casos\": 127}, {\"pais\": \"Jordan\", \"dia\": 17, \"casos\": 154}, {\"pais\": \"Jordan\", \"dia\": 18, \"casos\": 172}, {\"pais\": \"Jordan\", \"dia\": 19, \"casos\": 212}, {\"pais\": \"Jordan\", \"dia\": 20, \"casos\": 235}, {\"pais\": \"Jordan\", \"dia\": 21, \"casos\": 246}, {\"pais\": \"Jordan\", \"dia\": 22, \"casos\": 259}, {\"pais\": \"Jordan\", \"dia\": 23, \"casos\": 268}, {\"pais\": \"Lithuania\", \"dia\": 0, \"casos\": 1}, {\"pais\": \"Lithuania\", \"dia\": 1, \"casos\": 1}, {\"pais\": \"Lithuania\", \"dia\": 2, \"casos\": 1}, {\"pais\": \"Lithuania\", \"dia\": 3, \"casos\": 1}, {\"pais\": \"Lithuania\", \"dia\": 4, \"casos\": 3}, {\"pais\": \"Lithuania\", \"dia\": 5, \"casos\": 3}, {\"pais\": \"Lithuania\", \"dia\": 6, \"casos\": 6}, {\"pais\": \"Lithuania\", \"dia\": 7, \"casos\": 8}, {\"pais\": \"Lithuania\", \"dia\": 8, \"casos\": 12}, {\"pais\": \"Lithuania\", \"dia\": 9, \"casos\": 17}, {\"pais\": \"Lithuania\", \"dia\": 10, \"casos\": 25}, {\"pais\": \"Lithuania\", \"dia\": 11, \"casos\": 27}, {\"pais\": \"Lithuania\", \"dia\": 12, \"casos\": 36}, {\"pais\": \"Lithuania\", \"dia\": 13, \"casos\": 49}, {\"pais\": \"Lithuania\", \"dia\": 14, \"casos\": 83}, {\"pais\": \"Lithuania\", \"dia\": 15, \"casos\": 143}, {\"pais\": \"Lithuania\", \"dia\": 16, \"casos\": 179}, {\"pais\": \"Lithuania\", \"dia\": 17, \"casos\": 209}, {\"pais\": \"Lithuania\", \"dia\": 18, \"casos\": 274}, {\"pais\": \"Lithuania\", \"dia\": 19, \"casos\": 299}, {\"pais\": \"Lithuania\", \"dia\": 20, \"casos\": 358}, {\"pais\": \"Lithuania\", \"dia\": 21, \"casos\": 394}, {\"pais\": \"Lithuania\", \"dia\": 22, \"casos\": 460}, {\"pais\": \"Lithuania\", \"dia\": 23, \"casos\": 491}, {\"pais\": \"Armenia\", \"dia\": 0, \"casos\": 1}, {\"pais\": \"Armenia\", \"dia\": 1, \"casos\": 1}, {\"pais\": \"Armenia\", \"dia\": 2, \"casos\": 1}, {\"pais\": \"Armenia\", \"dia\": 3, \"casos\": 1}, {\"pais\": \"Armenia\", \"dia\": 4, \"casos\": 1}, {\"pais\": \"Armenia\", \"dia\": 5, \"casos\": 1}, {\"pais\": \"Armenia\", \"dia\": 6, \"casos\": 1}, {\"pais\": \"Armenia\", \"dia\": 7, \"casos\": 1}, {\"pais\": \"Armenia\", \"dia\": 8, \"casos\": 1}, {\"pais\": \"Armenia\", \"dia\": 9, \"casos\": 4}, {\"pais\": \"Armenia\", \"dia\": 10, \"casos\": 8}, {\"pais\": \"Armenia\", \"dia\": 11, \"casos\": 18}, {\"pais\": \"Armenia\", \"dia\": 12, \"casos\": 26}, {\"pais\": \"Armenia\", \"dia\": 13, \"casos\": 52}, {\"pais\": \"Armenia\", \"dia\": 14, \"casos\": 78}, {\"pais\": \"Armenia\", \"dia\": 15, \"casos\": 84}, {\"pais\": \"Armenia\", \"dia\": 16, \"casos\": 115}, {\"pais\": \"Armenia\", \"dia\": 17, \"casos\": 136}, {\"pais\": \"Armenia\", \"dia\": 18, \"casos\": 160}, {\"pais\": \"Armenia\", \"dia\": 19, \"casos\": 194}, {\"pais\": \"Armenia\", \"dia\": 20, \"casos\": 235}, {\"pais\": \"Armenia\", \"dia\": 21, \"casos\": 249}, {\"pais\": \"Armenia\", \"dia\": 22, \"casos\": 265}, {\"pais\": \"Armenia\", \"dia\": 23, \"casos\": 290}, {\"pais\": \"Armenia\", \"dia\": 24, \"casos\": 329}, {\"pais\": \"Armenia\", \"dia\": 25, \"casos\": 407}, {\"pais\": \"Armenia\", \"dia\": 26, \"casos\": 424}, {\"pais\": \"Armenia\", \"dia\": 27, \"casos\": 482}, {\"pais\": \"Greece\", \"dia\": 0, \"casos\": 1}, {\"pais\": \"Greece\", \"dia\": 1, \"casos\": 3}, {\"pais\": \"Greece\", \"dia\": 2, \"casos\": 4}, {\"pais\": \"Greece\", \"dia\": 3, \"casos\": 4}, {\"pais\": \"Greece\", \"dia\": 4, \"casos\": 7}, {\"pais\": \"Greece\", \"dia\": 5, \"casos\": 7}, {\"pais\": \"Greece\", \"dia\": 6, \"casos\": 7}, {\"pais\": \"Greece\", \"dia\": 7, \"casos\": 9}, {\"pais\": \"Greece\", \"dia\": 8, \"casos\": 31}, {\"pais\": \"Greece\", \"dia\": 9, \"casos\": 45}, {\"pais\": \"Greece\", \"dia\": 10, \"casos\": 46}, {\"pais\": \"Greece\", \"dia\": 11, \"casos\": 73}, {\"pais\": \"Greece\", \"dia\": 12, \"casos\": 73}, {\"pais\": \"Greece\", \"dia\": 13, \"casos\": 89}, {\"pais\": \"Greece\", \"dia\": 14, \"casos\": 99}, {\"pais\": \"Greece\", \"dia\": 15, \"casos\": 99}, {\"pais\": \"Greece\", \"dia\": 16, \"casos\": 190}, {\"pais\": \"Greece\", \"dia\": 17, \"casos\": 228}, {\"pais\": \"Greece\", \"dia\": 18, \"casos\": 331}, {\"pais\": \"Greece\", \"dia\": 19, \"casos\": 331}, {\"pais\": \"Greece\", \"dia\": 20, \"casos\": 387}, {\"pais\": \"Greece\", \"dia\": 21, \"casos\": 418}, {\"pais\": \"Greece\", \"dia\": 22, \"casos\": 418}, {\"pais\": \"Greece\", \"dia\": 23, \"casos\": 495}, {\"pais\": \"Greece\", \"dia\": 24, \"casos\": 530}, {\"pais\": \"Greece\", \"dia\": 25, \"casos\": 624}, {\"pais\": \"Greece\", \"dia\": 26, \"casos\": 695}, {\"pais\": \"Greece\", \"dia\": 27, \"casos\": 743}, {\"pais\": \"Greece\", \"dia\": 28, \"casos\": 821}, {\"pais\": \"Greece\", \"dia\": 29, \"casos\": 892}, {\"pais\": \"Greece\", \"dia\": 30, \"casos\": 966}, {\"pais\": \"Greece\", \"dia\": 31, \"casos\": 1061}, {\"pais\": \"Greece\", \"dia\": 32, \"casos\": 1156}, {\"pais\": \"Greece\", \"dia\": 33, \"casos\": 1212}, {\"pais\": \"Azerbaijan\", \"dia\": 0, \"casos\": 3}, {\"pais\": \"Azerbaijan\", \"dia\": 1, \"casos\": 3}, {\"pais\": \"Azerbaijan\", \"dia\": 2, \"casos\": 3}, {\"pais\": \"Azerbaijan\", \"dia\": 3, \"casos\": 3}, {\"pais\": \"Azerbaijan\", \"dia\": 4, \"casos\": 6}, {\"pais\": \"Azerbaijan\", \"dia\": 5, \"casos\": 6}, {\"pais\": \"Azerbaijan\", \"dia\": 6, \"casos\": 9}, {\"pais\": \"Azerbaijan\", \"dia\": 7, \"casos\": 9}, {\"pais\": \"Azerbaijan\", \"dia\": 8, \"casos\": 9}, {\"pais\": \"Azerbaijan\", \"dia\": 9, \"casos\": 11}, {\"pais\": \"Azerbaijan\", \"dia\": 10, \"casos\": 11}, {\"pais\": \"Azerbaijan\", \"dia\": 11, \"casos\": 11}, {\"pais\": \"Azerbaijan\", \"dia\": 12, \"casos\": 15}, {\"pais\": \"Azerbaijan\", \"dia\": 13, \"casos\": 15}, {\"pais\": \"Azerbaijan\", \"dia\": 14, \"casos\": 23}, {\"pais\": \"Azerbaijan\", \"dia\": 15, \"casos\": 28}, {\"pais\": \"Azerbaijan\", \"dia\": 16, \"casos\": 28}, {\"pais\": \"Azerbaijan\", \"dia\": 17, \"casos\": 28}, {\"pais\": \"Azerbaijan\", \"dia\": 18, \"casos\": 44}, {\"pais\": \"Azerbaijan\", \"dia\": 19, \"casos\": 44}, {\"pais\": \"Azerbaijan\", \"dia\": 20, \"casos\": 53}, {\"pais\": \"Azerbaijan\", \"dia\": 21, \"casos\": 65}, {\"pais\": \"Azerbaijan\", \"dia\": 22, \"casos\": 72}, {\"pais\": \"Azerbaijan\", \"dia\": 23, \"casos\": 87}, {\"pais\": \"Azerbaijan\", \"dia\": 24, \"casos\": 93}, {\"pais\": \"Azerbaijan\", \"dia\": 25, \"casos\": 122}, {\"pais\": \"Azerbaijan\", \"dia\": 26, \"casos\": 165}, {\"pais\": \"Azerbaijan\", \"dia\": 27, \"casos\": 182}, {\"pais\": \"Azerbaijan\", \"dia\": 28, \"casos\": 209}, {\"pais\": \"Azerbaijan\", \"dia\": 29, \"casos\": 273}, {\"pais\": \"Cuba\", \"dia\": 0, \"casos\": 3}, {\"pais\": \"Cuba\", \"dia\": 1, \"casos\": 3}, {\"pais\": \"Cuba\", \"dia\": 2, \"casos\": 4}, {\"pais\": \"Cuba\", \"dia\": 3, \"casos\": 4}, {\"pais\": \"Cuba\", \"dia\": 4, \"casos\": 4}, {\"pais\": \"Cuba\", \"dia\": 5, \"casos\": 5}, {\"pais\": \"Cuba\", \"dia\": 6, \"casos\": 7}, {\"pais\": \"Cuba\", \"dia\": 7, \"casos\": 11}, {\"pais\": \"Cuba\", \"dia\": 8, \"casos\": 16}, {\"pais\": \"Cuba\", \"dia\": 9, \"casos\": 25}, {\"pais\": \"Cuba\", \"dia\": 10, \"casos\": 35}, {\"pais\": \"Cuba\", \"dia\": 11, \"casos\": 40}, {\"pais\": \"Cuba\", \"dia\": 12, \"casos\": 48}, {\"pais\": \"Cuba\", \"dia\": 13, \"casos\": 57}, {\"pais\": \"Cuba\", \"dia\": 14, \"casos\": 67}, {\"pais\": \"Cuba\", \"dia\": 15, \"casos\": 80}, {\"pais\": \"Cuba\", \"dia\": 16, \"casos\": 119}, {\"pais\": \"Cuba\", \"dia\": 17, \"casos\": 139}, {\"pais\": \"Cuba\", \"dia\": 18, \"casos\": 170}, {\"pais\": \"Cuba\", \"dia\": 19, \"casos\": 186}, {\"pais\": \"Cuba\", \"dia\": 20, \"casos\": 212}], \"data-e2c8ca4bb4eb0c3fa7ae17ced8e134da\": [{\"pais\": \"Cuba\", \"dia\": 0, \"casos\": 3}, {\"pais\": \"Cuba\", \"dia\": 1, \"casos\": 3}, {\"pais\": \"Cuba\", \"dia\": 2, \"casos\": 4}, {\"pais\": \"Cuba\", \"dia\": 3, \"casos\": 4}, {\"pais\": \"Cuba\", \"dia\": 4, \"casos\": 4}, {\"pais\": \"Cuba\", \"dia\": 5, \"casos\": 5}, {\"pais\": \"Cuba\", \"dia\": 6, \"casos\": 7}, {\"pais\": \"Cuba\", \"dia\": 7, \"casos\": 11}, {\"pais\": \"Cuba\", \"dia\": 8, \"casos\": 16}, {\"pais\": \"Cuba\", \"dia\": 9, \"casos\": 25}, {\"pais\": \"Cuba\", \"dia\": 10, \"casos\": 35}, {\"pais\": \"Cuba\", \"dia\": 11, \"casos\": 40}, {\"pais\": \"Cuba\", \"dia\": 12, \"casos\": 48}, {\"pais\": \"Cuba\", \"dia\": 13, \"casos\": 57}, {\"pais\": \"Cuba\", \"dia\": 14, \"casos\": 67}, {\"pais\": \"Cuba\", \"dia\": 15, \"casos\": 80}, {\"pais\": \"Cuba\", \"dia\": 16, \"casos\": 119}, {\"pais\": \"Cuba\", \"dia\": 17, \"casos\": 139}, {\"pais\": \"Cuba\", \"dia\": 18, \"casos\": 170}, {\"pais\": \"Cuba\", \"dia\": 19, \"casos\": 186}, {\"pais\": \"Cuba\", \"dia\": 20, \"casos\": 212}]}}, {\"mode\": \"vega-lite\"});\n",
       "</script>"
      ],
      "text/plain": [
       "alt.LayerChart(...)"
      ]
     },
     "execution_count": 9,
     "metadata": {},
     "output_type": "execute_result"
    }
   ],
   "source": [
    "import altair as alt\n",
    "\n",
    "df = []\n",
    "\n",
    "for country, (_, data) in most_similar_curves:\n",
    "    for i, x in enumerate(data):\n",
    "        df.append(dict(pais=country, dia=i, casos=x))\n",
    "    \n",
    "for i, x in enumerate(ts_cuba):\n",
    "    df.append(dict(pais='Cuba', dia=i, casos=x))\n",
    "    \n",
    "df = pd.DataFrame(df)\n",
    "\n",
    "alt.Chart(df).mark_line().encode(\n",
    "    x='dia',\n",
    "    y='casos',\n",
    "    color='pais'\n",
    ") + alt.Chart(df[df['pais'] == 'Cuba']).mark_circle(size=100, fill='red').encode (\n",
    "    x='dia',\n",
    "    y='casos',\n",
    ").properties(\n",
    "    width=700,\n",
    "    height=500\n",
    ")"
   ]
  },
  {
   "cell_type": "markdown",
   "metadata": {},
   "source": [
    "### Forecast\n",
    "\n",
    "Vamos a construir un modelo lineal basado en los días anteriores para predecir cada día posterior.\n",
    "Los parámetros son:\n",
    "\n",
    "* `step_back`: Cuantos días hacia atrás usar como variables características\n",
    "* `skip_fraction`: Eliminar el primer $p$ porciento de los valores \n",
    "* `min_reports`: Cantidad mínima de reportes que debe haber en un día para usarlo\n",
    "* `use_values`: Incluir los valores absolutos en las características\n",
    "* `use_differences`: Incluir las diferencias entre cada par de días consecutivos en las características"
   ]
  },
  {
   "cell_type": "code",
   "execution_count": 10,
   "metadata": {},
   "outputs": [],
   "source": [
    "steps_back = 10\n",
    "skip_fraction = 0.1\n",
    "min_reports = 5\n",
    "use_values = True\n",
    "use_diferences = False"
   ]
  },
  {
   "cell_type": "code",
   "execution_count": 11,
   "metadata": {},
   "outputs": [],
   "source": [
    "import numpy as np\n",
    "\n",
    "def _extract_features(serie, X=None, y=None):\n",
    "    X = [] if X is None else X\n",
    "    y = [] if y is None else y\n",
    "    \n",
    "    serie = serie[int(skip_fraction * len(serie)):]\n",
    "    \n",
    "    for i in range(steps_back, len(serie)):\n",
    "        features = []\n",
    "        \n",
    "        if serie[i] < min_reports:\n",
    "            continue      \n",
    "            \n",
    "        if use_values:\n",
    "            features.extend(serie[i-steps_back:i])\n",
    "        if use_diferences:\n",
    "            for j in range(i-steps_back+1, i):\n",
    "                features.append(serie[j] - serie[j-1])\n",
    "            \n",
    "        current = serie[i]\n",
    "        \n",
    "        X.append(features)\n",
    "        y.append(current)\n",
    "        \n",
    "    return X, y\n",
    "\n",
    "def extract_features(series):\n",
    "    X = []\n",
    "    y = []\n",
    "    \n",
    "    for country, serie in series.items():\n",
    "        _extract_features(serie, X, y)\n",
    "        \n",
    "    return np.asarray(X), np.asarray(y)\n",
    "\n",
    "X, y = extract_features({\n",
    "    k:v[1] \n",
    "    for k,v in most_similar_curves\n",
    "})"
   ]
  },
  {
   "cell_type": "code",
   "execution_count": 12,
   "metadata": {},
   "outputs": [],
   "source": [
    "from sklearn.linear_model import LinearRegression, Ridge, Lasso\n",
    "from sklearn.model_selection import train_test_split"
   ]
  },
  {
   "cell_type": "code",
   "execution_count": 13,
   "metadata": {},
   "outputs": [],
   "source": [
    "def build_model():\n",
    "    Xtrain, Xtest, ytrain, ytest = train_test_split(X, y, test_size=0.25)\n",
    "\n",
    "    lr = Lasso(fit_intercept=False, positive=True, max_iter=10000, tol=0.001)\n",
    "    lr.fit(Xtrain, ytrain)\n",
    "\n",
    "    return lr\n",
    "\n",
    "def predict(model, data, n, previous=1):\n",
    "    data = list(data)\n",
    "    result = []\n",
    "\n",
    "    for i in range(n):\n",
    "        data.append(data[-1])\n",
    "        X, y = _extract_features(data)\n",
    "        X = X[-previous:]\n",
    "\n",
    "        ypred = model.predict(X)\n",
    "        result.append(ypred[0])\n",
    "        data[-1] = ypred[0]\n",
    "        \n",
    "    return result"
   ]
  },
  {
   "cell_type": "code",
   "execution_count": 14,
   "metadata": {
    "collapsed": false,
    "jupyter": {
     "outputs_hidden": false
    }
   },
   "outputs": [
    {
     "data": {
      "text/plain": [
       "[236.09876459708406,\n",
       " 262.93691813334584,\n",
       " 292.8258563124886,\n",
       " 326.1123722521784,\n",
       " 363.1826802290741,\n",
       " 404.4668968167086,\n",
       " 450.44403140962817]"
      ]
     },
     "execution_count": 14,
     "metadata": {},
     "output_type": "execute_result"
    }
   ],
   "source": [
    "lr = build_model()\n",
    "predict(lr, ts_cuba, 7)"
   ]
  },
  {
   "cell_type": "code",
   "execution_count": 15,
   "metadata": {
    "collapsed": false,
    "jupyter": {
     "outputs_hidden": false
    }
   },
   "outputs": [
    {
     "name": "stdout",
     "output_type": "stream",
     "text": [
      "[0.         0.         0.         0.         0.         0.\n",
      " 0.         0.         0.         1.11367342]\n"
     ]
    }
   ],
   "source": [
    "print(lr.coef_)"
   ]
  },
  {
   "cell_type": "code",
   "execution_count": 16,
   "metadata": {},
   "outputs": [],
   "source": [
    "serie = ts_cuba\n",
    "previous=1\n",
    "simulations=15\n",
    "\n",
    "Y = []\n",
    "    \n",
    "for i in range(30):    \n",
    "    lr = build_model()\n",
    "    yp = predict(lr, serie, n=simulations, previous=previous)\n",
    "    yp.insert(0, serie[-previous])\n",
    "    Y.append(yp)\n",
    "    \n",
    "Y = np.asarray(Y)"
   ]
  },
  {
   "cell_type": "code",
   "execution_count": 17,
   "metadata": {
    "collapsed": false,
    "jupyter": {
     "outputs_hidden": false
    }
   },
   "outputs": [
    {
     "name": "stdout",
     "output_type": "stream",
     "text": [
      "Hoy + 0 dias:\t212\t(± 0 @ 50%)\t(± 0 @ 95%)\n",
      "Hoy + 1 dias:\t235\t(± 1 @ 50%)\t(± 3 @ 95%)\n",
      "Hoy + 2 dias:\t260\t(± 1 @ 50%)\t(± 6 @ 95%)\n",
      "Hoy + 3 dias:\t288\t(± 2 @ 50%)\t(± 10 @ 95%)\n",
      "Hoy + 4 dias:\t319\t(± 3 @ 50%)\t(± 15 @ 95%)\n",
      "Hoy + 5 dias:\t354\t(± 5 @ 50%)\t(± 21 @ 95%)\n",
      "Hoy + 6 dias:\t392\t(± 6 @ 50%)\t(± 28 @ 95%)\n",
      "Hoy + 7 dias:\t434\t(± 8 @ 50%)\t(± 37 @ 95%)\n",
      "Hoy + 8 dias:\t481\t(± 10 @ 50%)\t(± 47 @ 95%)\n",
      "Hoy + 9 dias:\t533\t(± 13 @ 50%)\t(± 58 @ 95%)\n",
      "Hoy + 10 dias:\t590\t(± 16 @ 50%)\t(± 71 @ 95%)\n",
      "Hoy + 11 dias:\t654\t(± 19 @ 50%)\t(± 87 @ 95%)\n",
      "Hoy + 12 dias:\t725\t(± 24 @ 50%)\t(± 106 @ 95%)\n",
      "Hoy + 13 dias:\t803\t(± 28 @ 50%)\t(± 127 @ 95%)\n",
      "Hoy + 14 dias:\t890\t(± 34 @ 50%)\t(± 151 @ 95%)\n",
      "Hoy + 15 dias:\t986\t(± 40 @ 50%)\t(± 180 @ 95%)\n"
     ]
    }
   ],
   "source": [
    "ymean = Y.mean(axis=0)\n",
    "ystdv = Y.std(axis=0)\n",
    "\n",
    "ymean, ystdv\n",
    "\n",
    "for i, (x,s) in enumerate(zip(ymean, ystdv)):\n",
    "    print(\"Hoy + %i dias:\\t%.0f\\t(± %.0f @ 50%%)\\t(± %.0f @ 95%%)\" % (i, x, 0.67*s, 3*s))"
   ]
  },
  {
   "cell_type": "code",
   "execution_count": 18,
   "metadata": {},
   "outputs": [
    {
     "data": {
      "text/plain": [
       "<Figure size 1008x288 with 0 Axes>"
      ]
     },
     "execution_count": 18,
     "metadata": {},
     "output_type": "execute_result"
    },
    {
     "data": {
      "text/plain": [
       "<Figure size 1008x288 with 0 Axes>"
      ]
     },
     "metadata": {},
     "output_type": "display_data"
    }
   ],
   "source": [
    "from matplotlib import pyplot as plt\n",
    "\n",
    "plt.figure(figsize=(14,4))"
   ]
  },
  {
   "cell_type": "markdown",
   "metadata": {},
   "source": [
    "Ploteando la predicción para los próximos dias. La zona gris clara es el 95% de confianza y la zona gris oscura el 50% de confianza."
   ]
  },
  {
   "cell_type": "code",
   "execution_count": 19,
   "metadata": {
    "collapsed": false,
    "jupyter": {
     "outputs_hidden": false
    }
   },
   "outputs": [
    {
     "data": {
      "text/plain": [
       "Text(0.5, 1.0, 'Cuba')"
      ]
     },
     "execution_count": 19,
     "metadata": {},
     "output_type": "execute_result"
    },
    {
     "data": {
      "image/png": "[encoded data removed]",
      "text/plain": [
       "<Figure size 432x288 with 1 Axes>"
      ]
     },
     "metadata": {
      "needs_background": "light"
     },
     "output_type": "display_data"
    }
   ],
   "source": [
    "plt.plot(range(1, len(serie)+1), serie)\n",
    "plt.plot(range(len(serie)+1-previous, len(serie)+1+len(ymean)-previous), ymean)\n",
    "plt.fill_between(range(len(serie)+1-previous, len(serie)+1+len(ymean)-previous), \n",
    "                 ymean-ystdv*3, \n",
    "                 ymean+ystdv*3, \n",
    "                 color='lightgrey')\n",
    "plt.fill_between(range(len(serie)+1-previous, len(serie)+1+len(ymean)-previous), \n",
    "                 ymean-ystdv*0.67, \n",
    "                 ymean+ystdv*0.67,\n",
    "                 color='darkgrey')\n",
    "plt.title(\"Cuba\")"
   ]
  },
  {
   "cell_type": "markdown",
   "metadata": {},
   "source": [
    "## Probando sin comparar contra la curva corrida"
   ]
  },
  {
   "cell_type": "code",
   "execution_count": 41,
   "metadata": {},
   "outputs": [
    {
     "name": "stdout",
     "output_type": "stream",
     "text": [
      "Cuba 0 [3, 3, 4, 4, 4, 5, 7, 11, 16, 25, 35, 40, 48, 57, 67, 80, 119, 139, 170, 186]\n",
      "Hungary 0.26814805233095323 [2, 2, 2, 4, 7, 9, 9, 13, 13, 19, 30, 32, 39, 50, 58, 73, 85, 103, 131, 167, 187, 226, 261, 300, 343, 408, 447]\n",
      "Greece 0.48180872432116095 [1, 3, 4, 4, 7, 7, 7, 9, 31, 45, 46, 73, 73, 89, 99, 99, 190, 228, 331, 331, 387, 418, 418, 495, 530, 624, 695, 743, 821, 892, 966, 1061, 1156, 1212]\n",
      "Azerbaijan 0.4937344820327863 [3, 3, 3, 3, 6, 6, 9, 9, 9, 11, 11, 11, 15, 15, 23, 28, 28, 28, 44, 44, 53, 65, 72, 87, 93, 122, 165, 182, 209, 273]\n",
      "Croatia 0.5412683814832479 [1, 3, 3, 5, 6, 7, 7, 9, 10, 10, 11, 12, 12, 12, 14, 19, 19, 32, 38, 49, 57, 65, 81, 105, 128, 206, 254, 315, 382, 442, 495, 586, 657, 713, 790]\n",
      "Tunisia 0.5488867933074473 [1, 1, 1, 1, 2, 2, 5, 7, 7, 16, 18, 18, 20, 24, 29, 39, 54, 60, 75, 89, 114, 173, 197, 227, 278, 312, 312]\n",
      "Latvia 0.5609276769586019 [1, 1, 1, 1, 1, 1, 2, 6, 8, 10, 10, 17, 26, 30, 34, 49, 71, 86, 111, 124, 139, 180, 197, 221, 244, 280, 305, 347, 376]\n",
      "Ireland 0.5949969733920019 [1, 1, 1, 2, 6, 6, 18, 18, 19, 21, 34, 43, 43, 90, 129, 129, 169, 223, 292, 557, 683, 785, 906, 1125, 1329, 1564, 1819, 2121, 2415, 2615, 2910]\n",
      "United Arab Emirates 0.6053902924032802 [4, 4, 4, 4, 5, 5, 5, 5, 5, 5, 7, 7, 8, 8, 8, 8, 8, 8, 9, 9, 9, 9, 9, 9, 13, 13, 13, 13, 13, 13, 19, 21, 21, 21, 27, 27, 29, 29, 45, 45, 45, 74, 74, 85, 85, 85, 98, 98, 98, 113, 140, 140, 153, 153, 198, 248, 333, 333, 405, 468, 570, 611]\n",
      "Belarus 0.6629477076281828 [1, 1, 1, 1, 1, 6, 6, 6, 6, 6, 6, 9, 9, 12, 27, 27, 27, 36, 36, 51, 51, 69, 76, 76, 81, 81, 86, 86, 94, 94, 94, 152]\n",
      "Armenia 0.686527385679075 [1, 1, 1, 1, 1, 1, 1, 1, 1, 1, 1, 4, 8, 18, 26, 52, 78, 84, 115, 136, 160, 194, 235, 249, 265, 290, 329, 407, 424, 482]\n"
     ]
    }
   ],
   "source": [
    "similarities = {\n",
    "    name: (values, similarity(values, exponent, normalize)) \n",
    "    for name,values in countries_data['paises'].items() \n",
    "    if len(values) >= k + len(ts_cuba)\n",
    "    if name in countries_to_analize\n",
    "}\n",
    "\n",
    "print(\"Cuba\", \"0\", ts_cuba)\n",
    "\n",
    "most_similar_curves = sorted(similarities.items(), key=lambda t: t[1][1])[:10] \n",
    "\n",
    "for i,(values, s) in most_similar_curves:\n",
    "    print(i, s, values)"
   ]
  },
  {
   "cell_type": "code",
   "execution_count": 42,
   "metadata": {},
   "outputs": [
    {
     "data": {
      "text/plain": [
       "[209.95439910660767,\n",
       " 236.99381561406827,\n",
       " 267.51555994211765,\n",
       " 301.9681109640591,\n",
       " 340.85770584309927,\n",
       " 384.7557785545416,\n",
       " 434.30735639362257,\n",
       " 490.24053784517383,\n",
       " 553.3771910805572,\n",
       " 624.6450302829076,\n",
       " 705.0912472471861,\n",
       " 795.8978985543629,\n",
       " 898.3992744150164,\n",
       " 1014.1015043957909,\n",
       " 1144.7046881103502]"
      ]
     },
     "execution_count": 42,
     "metadata": {},
     "output_type": "execute_result"
    }
   ],
   "source": [
    "X, y = extract_features({\n",
    "    k:v[0] \n",
    "    for k,v in most_similar_curves\n",
    "})\n",
    "\n",
    "lr = build_model()\n",
    "predict(lr, ts_cuba, simulations)"
   ]
  },
  {
   "cell_type": "code",
   "execution_count": 43,
   "metadata": {},
   "outputs": [
    {
     "name": "stdout",
     "output_type": "stream",
     "text": [
      "Day 0: 186 (± 0 @ 95%)\n",
      "Day 1: 210 (± 4 @ 95%)\n",
      "Day 2: 237 (± 9 @ 95%)\n",
      "Day 3: 268 (± 15 @ 95%)\n",
      "Day 4: 303 (± 22 @ 95%)\n",
      "Day 5: 342 (± 31 @ 95%)\n",
      "Day 6: 387 (± 42 @ 95%)\n",
      "Day 7: 437 (± 56 @ 95%)\n",
      "Day 8: 493 (± 72 @ 95%)\n",
      "Day 9: 558 (± 91 @ 95%)\n",
      "Day 10: 630 (± 115 @ 95%)\n",
      "Day 11: 712 (± 143 @ 95%)\n",
      "Day 12: 804 (± 176 @ 95%)\n",
      "Day 13: 909 (± 216 @ 95%)\n",
      "Day 14: 1027 (± 263 @ 95%)\n",
      "Day 15: 1161 (± 319 @ 95%)\n"
     ]
    }
   ],
   "source": [
    "Y = []\n",
    "    \n",
    "for i in range(30):    \n",
    "    lr = build_model()\n",
    "    yp = predict(lr, serie, n=simulations, previous=previous)\n",
    "    yp.insert(0, serie[-previous])\n",
    "    Y.append(yp)\n",
    "    \n",
    "Y = np.asarray(Y)\n",
    "\n",
    "ymean = Y.mean(axis=0)\n",
    "ystdv = Y.std(axis=0)\n",
    "\n",
    "ymean, ystdv\n",
    "\n",
    "for i, (x,s) in enumerate(zip(ymean, ystdv)):\n",
    "    print(\"Day %i: %.0f (± %.0f @ 95%%)\" % (i, x, 3*s))"
   ]
  },
  {
   "cell_type": "code",
   "execution_count": 44,
   "metadata": {},
   "outputs": [
    {
     "data": {
      "text/plain": [
       "Text(0.5, 1.0, 'Cuba')"
      ]
     },
     "execution_count": 44,
     "metadata": {},
     "output_type": "execute_result"
    },
    {
     "data": {
      "image/png": "[encoded data removed]",
      "text/plain": [
       "<Figure size 432x288 with 1 Axes>"
      ]
     },
     "metadata": {
      "needs_background": "light"
     },
     "output_type": "display_data"
    }
   ],
   "source": [
    "plt.plot(range(1, len(serie)+1), serie)\n",
    "plt.plot(range(len(serie)+1-previous, len(serie)+1+len(ymean)-previous), ymean)\n",
    "plt.fill_between(range(len(serie)+1-previous, len(serie)+1+len(ymean)-previous), \n",
    "                 ymean-ystdv*3, \n",
    "                 ymean+ystdv*3, \n",
    "                 color='lightgrey')\n",
    "plt.fill_between(range(len(serie)+1-previous, len(serie)+1+len(ymean)-previous), \n",
    "                 ymean-ystdv*0.67, \n",
    "                 ymean+ystdv*0.67, \n",
    "                 color='darkgrey')\n",
    "plt.title(\"Cuba\")"
   ]
  }
 ],
 "metadata": {
  "kernelspec": {
   "display_name": "Python 3",
   "language": "python",
   "name": "python3"
  },
  "language_info": {
   "codemirror_mode": {
    "name": "ipython",
    "version": 3
   },
   "file_extension": ".py",
   "mimetype": "text/x-python",
   "name": "python",
   "nbconvert_exporter": "python",
   "pygments_lexer": "ipython3",
   "version": "3.8.2"
  }
 },
 "nbformat": 4,
 "nbformat_minor": 4
}
