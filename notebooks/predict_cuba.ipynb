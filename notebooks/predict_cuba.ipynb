{
 "cells": [
  {
   "cell_type": "markdown",
   "metadata": {},
   "source": [
    "Cargando los datos y construyendo la serie de tiempo de Cuba"
   ]
  },
  {
   "cell_type": "code",
   "execution_count": 45,
   "metadata": {
    "collapsed": false
   },
   "outputs": [
    {
     "data": {
      "text/plain": [
       "[3, 3, 4, 4, 4, 5, 7, 11, 16, 25, 35, 40, 48, 57, 67, 80, 119]"
      ]
     },
     "execution_count": 45,
     "metadata": {},
     "output_type": "execute_result"
    }
   ],
   "source": [
    "import json\n",
    "\n",
    "with open(\"../data/covid19-cuba.json\") as fp:\n",
    "    data = json.load(fp)\n",
    "\n",
    "cases_per_day = {k:len(v.get('diagnosticados', [])) for k,v in data['casos']['dias'].items()}\n",
    "\n",
    "ts_cuba = []\n",
    "\n",
    "t = 0\n",
    "for _,v in cases_per_day.items():\n",
    "    t += v\n",
    "    ts_cuba.append(t)\n",
    "    \n",
    "ts_cuba.append(119)\n",
    "    \n",
    "ts_cuba"
   ]
  },
  {
   "cell_type": "markdown",
   "metadata": {},
   "source": [
    "Cargando los datos de los demás países (vienen en el mismo formato que tenemos antes)"
   ]
  },
  {
   "cell_type": "code",
   "execution_count": 46,
   "metadata": {
    "collapsed": true
   },
   "outputs": [],
   "source": [
    "with open(\"../data/paises-info-dias.json\") as fp:\n",
    "    countries_data = json.load(fp)"
   ]
  },
  {
   "cell_type": "markdown",
   "metadata": {},
   "source": [
    "Esta función calcula una \"similaridad\" entre par de series, la de Cuba, y otra objetivo. En general se usa una media de error computando los residuales día a día y ponderándolos de cierta forma. Los parámetros son:\n",
    "\n",
    "* `exponent`: $1, 2, ...$ es el exponente de la métrica, e.j., si es $2$ será un error cuadrático medio.\n",
    "* `normalize`: determina si el residual de cada día se normaliza contra el valor de dicho día. Esto es para lograr, por ejemplo, que una diferencia entre $95$ y $100$ no sea considerada mayor que una diferencia entre $2$ y $4$. Si vale `False` se toman los residuales absolutos."
   ]
  },
  {
   "cell_type": "code",
   "execution_count": 47,
   "metadata": {
    "collapsed": true
   },
   "outputs": [],
   "source": [
    "def similarity(country, exponent=1, normalize=True):\n",
    "    min_len = min(len(ts_cuba), len(country))\n",
    "    cuba = ts_cuba[0:min_len]\n",
    "    country = country[0:min_len]\n",
    "    \n",
    "    def metric(vi, vj):\n",
    "        t = abs(vi - vj)\n",
    "        b = abs(vi) if normalize else 1\n",
    "        return (t / b) ** exponent\n",
    "    \n",
    "    residuals = [metric(vi, vj) for vi,vj in zip(cuba, country)]\n",
    "    msqe = sum(residuals) / len(residuals)\n",
    "    \n",
    "    return msqe\n",
    "\n",
    "def sliding_similarity(country, exponent=1, normalize=True, window_size=15):\n",
    "    min_sim = 1e50\n",
    "    \n",
    "    for i in range(window_size+1):\n",
    "        sample = country[i:]\n",
    "        \n",
    "        if len(sample) >= len(ts_cuba):\n",
    "            min_sim = min(min_sim, similarity(sample, exponent, normalize))\n",
    "    \n",
    "    return min_sim"
   ]
  },
  {
   "cell_type": "markdown",
   "metadata": {},
   "source": [
    "### Paises"
   ]
  },
  {
   "cell_type": "code",
   "execution_count": 48,
   "metadata": {
    "collapsed": false
   },
   "outputs": [
    {
     "data": {
      "text/html": [
       "<div>\n",
       "<style scoped>\n",
       "    .dataframe tbody tr th:only-of-type {\n",
       "        vertical-align: middle;\n",
       "    }\n",
       "\n",
       "    .dataframe tbody tr th {\n",
       "        vertical-align: top;\n",
       "    }\n",
       "\n",
       "    .dataframe thead th {\n",
       "        text-align: right;\n",
       "    }\n",
       "</style>\n",
       "<table border=\"1\" class=\"dataframe\">\n",
       "  <thead>\n",
       "    <tr style=\"text-align: right;\">\n",
       "      <th></th>\n",
       "      <th>Country</th>\n",
       "      <th>Population</th>\n",
       "      <th>Yearly change</th>\n",
       "      <th>Net change</th>\n",
       "      <th>Density</th>\n",
       "      <th>Land area</th>\n",
       "      <th>Migrants</th>\n",
       "      <th>Fertility</th>\n",
       "      <th>Med. age</th>\n",
       "      <th>Urban</th>\n",
       "      <th>World share</th>\n",
       "    </tr>\n",
       "  </thead>\n",
       "  <tbody>\n",
       "    <tr>\n",
       "      <th>0</th>\n",
       "      <td>China</td>\n",
       "      <td>1439323776</td>\n",
       "      <td>0.39</td>\n",
       "      <td>5540090</td>\n",
       "      <td>153</td>\n",
       "      <td>9388211</td>\n",
       "      <td>-348399.0</td>\n",
       "      <td>1.7</td>\n",
       "      <td>38</td>\n",
       "      <td>61</td>\n",
       "      <td>18.47</td>\n",
       "    </tr>\n",
       "    <tr>\n",
       "      <th>1</th>\n",
       "      <td>India</td>\n",
       "      <td>1380004385</td>\n",
       "      <td>0.99</td>\n",
       "      <td>13586631</td>\n",
       "      <td>464</td>\n",
       "      <td>2973190</td>\n",
       "      <td>-532687.0</td>\n",
       "      <td>2.2</td>\n",
       "      <td>28</td>\n",
       "      <td>35</td>\n",
       "      <td>17.70</td>\n",
       "    </tr>\n",
       "    <tr>\n",
       "      <th>2</th>\n",
       "      <td>United States</td>\n",
       "      <td>331002651</td>\n",
       "      <td>0.59</td>\n",
       "      <td>1937734</td>\n",
       "      <td>36</td>\n",
       "      <td>9147420</td>\n",
       "      <td>954806.0</td>\n",
       "      <td>1.8</td>\n",
       "      <td>38</td>\n",
       "      <td>83</td>\n",
       "      <td>4.25</td>\n",
       "    </tr>\n",
       "    <tr>\n",
       "      <th>3</th>\n",
       "      <td>Indonesia</td>\n",
       "      <td>273523615</td>\n",
       "      <td>1.07</td>\n",
       "      <td>2898047</td>\n",
       "      <td>151</td>\n",
       "      <td>1811570</td>\n",
       "      <td>-98955.0</td>\n",
       "      <td>2.3</td>\n",
       "      <td>30</td>\n",
       "      <td>56</td>\n",
       "      <td>3.51</td>\n",
       "    </tr>\n",
       "    <tr>\n",
       "      <th>4</th>\n",
       "      <td>Pakistan</td>\n",
       "      <td>220892340</td>\n",
       "      <td>2.00</td>\n",
       "      <td>4327022</td>\n",
       "      <td>287</td>\n",
       "      <td>770880</td>\n",
       "      <td>-233379.0</td>\n",
       "      <td>3.6</td>\n",
       "      <td>23</td>\n",
       "      <td>35</td>\n",
       "      <td>2.83</td>\n",
       "    </tr>\n",
       "    <tr>\n",
       "      <th>...</th>\n",
       "      <td>...</td>\n",
       "      <td>...</td>\n",
       "      <td>...</td>\n",
       "      <td>...</td>\n",
       "      <td>...</td>\n",
       "      <td>...</td>\n",
       "      <td>...</td>\n",
       "      <td>...</td>\n",
       "      <td>...</td>\n",
       "      <td>...</td>\n",
       "      <td>...</td>\n",
       "    </tr>\n",
       "    <tr>\n",
       "      <th>230</th>\n",
       "      <td>Montserrat</td>\n",
       "      <td>4992</td>\n",
       "      <td>0.06</td>\n",
       "      <td>3</td>\n",
       "      <td>50</td>\n",
       "      <td>100</td>\n",
       "      <td>NaN</td>\n",
       "      <td>0.0</td>\n",
       "      <td>0</td>\n",
       "      <td>10</td>\n",
       "      <td>0.00</td>\n",
       "    </tr>\n",
       "    <tr>\n",
       "      <th>231</th>\n",
       "      <td>Falkland Islands</td>\n",
       "      <td>3480</td>\n",
       "      <td>3.05</td>\n",
       "      <td>103</td>\n",
       "      <td>0</td>\n",
       "      <td>12170</td>\n",
       "      <td>NaN</td>\n",
       "      <td>0.0</td>\n",
       "      <td>0</td>\n",
       "      <td>66</td>\n",
       "      <td>0.00</td>\n",
       "    </tr>\n",
       "    <tr>\n",
       "      <th>232</th>\n",
       "      <td>Niue</td>\n",
       "      <td>1626</td>\n",
       "      <td>0.68</td>\n",
       "      <td>11</td>\n",
       "      <td>6</td>\n",
       "      <td>260</td>\n",
       "      <td>NaN</td>\n",
       "      <td>0.0</td>\n",
       "      <td>0</td>\n",
       "      <td>46</td>\n",
       "      <td>0.00</td>\n",
       "    </tr>\n",
       "    <tr>\n",
       "      <th>233</th>\n",
       "      <td>Tokelau</td>\n",
       "      <td>1357</td>\n",
       "      <td>1.27</td>\n",
       "      <td>17</td>\n",
       "      <td>136</td>\n",
       "      <td>10</td>\n",
       "      <td>NaN</td>\n",
       "      <td>0.0</td>\n",
       "      <td>0</td>\n",
       "      <td>0</td>\n",
       "      <td>0.00</td>\n",
       "    </tr>\n",
       "    <tr>\n",
       "      <th>234</th>\n",
       "      <td>Holy See</td>\n",
       "      <td>801</td>\n",
       "      <td>0.25</td>\n",
       "      <td>2</td>\n",
       "      <td>2003</td>\n",
       "      <td>0</td>\n",
       "      <td>NaN</td>\n",
       "      <td>0.0</td>\n",
       "      <td>0</td>\n",
       "      <td>0</td>\n",
       "      <td>0.00</td>\n",
       "    </tr>\n",
       "  </tbody>\n",
       "</table>\n",
       "<p>235 rows × 11 columns</p>\n",
       "</div>"
      ],
      "text/plain": [
       "              Country  Population  Yearly change  Net change  Density  \\\n",
       "0               China  1439323776           0.39     5540090      153   \n",
       "1               India  1380004385           0.99    13586631      464   \n",
       "2       United States   331002651           0.59     1937734       36   \n",
       "3           Indonesia   273523615           1.07     2898047      151   \n",
       "4            Pakistan   220892340           2.00     4327022      287   \n",
       "..                ...         ...            ...         ...      ...   \n",
       "230        Montserrat        4992           0.06           3       50   \n",
       "231  Falkland Islands        3480           3.05         103        0   \n",
       "232              Niue        1626           0.68          11        6   \n",
       "233           Tokelau        1357           1.27          17      136   \n",
       "234          Holy See         801           0.25           2     2003   \n",
       "\n",
       "     Land area  Migrants  Fertility  Med. age  Urban  World share  \n",
       "0      9388211 -348399.0        1.7        38     61        18.47  \n",
       "1      2973190 -532687.0        2.2        28     35        17.70  \n",
       "2      9147420  954806.0        1.8        38     83         4.25  \n",
       "3      1811570  -98955.0        2.3        30     56         3.51  \n",
       "4       770880 -233379.0        3.6        23     35         2.83  \n",
       "..         ...       ...        ...       ...    ...          ...  \n",
       "230        100       NaN        0.0         0     10         0.00  \n",
       "231      12170       NaN        0.0         0     66         0.00  \n",
       "232        260       NaN        0.0         0     46         0.00  \n",
       "233         10       NaN        0.0         0      0         0.00  \n",
       "234          0       NaN        0.0         0      0         0.00  \n",
       "\n",
       "[235 rows x 11 columns]"
      ]
     },
     "execution_count": 48,
     "metadata": {},
     "output_type": "execute_result"
    }
   ],
   "source": [
    "import pandas as pd\n",
    "\n",
    "countries_stats = pd.read_csv(\"../data/world_demographics.tsv\", sep=\"\\t\")\n",
    "countries_stats"
   ]
  },
  {
   "cell_type": "code",
   "execution_count": 49,
   "metadata": {
    "collapsed": true,
    "scrolled": true
   },
   "outputs": [],
   "source": [
    "stats_dict = countries_stats.set_index('Country').to_dict('index')"
   ]
  },
  {
   "cell_type": "code",
   "execution_count": 50,
   "metadata": {
    "collapsed": false
   },
   "outputs": [
    {
     "data": {
      "text/plain": [
       "['Hungary',\n",
       " 'Portugal',\n",
       " 'Austria',\n",
       " 'United Arab Emirates',\n",
       " 'Greece',\n",
       " 'Belarus',\n",
       " 'Costa Rica',\n",
       " 'Slovakia',\n",
       " 'Tunisia',\n",
       " 'Azerbaijan',\n",
       " 'Sweden',\n",
       " 'Armenia',\n",
       " 'Ireland',\n",
       " 'Croatia',\n",
       " 'North Macedonia',\n",
       " 'Switzerland',\n",
       " 'Jordan',\n",
       " 'Finland',\n",
       " 'Moldova',\n",
       " 'Honduras',\n",
       " 'Norway',\n",
       " 'Brunei',\n",
       " 'Cyprus',\n",
       " 'Lithuania',\n",
       " 'Bosnia and Herzegovina',\n",
       " 'Chile',\n",
       " 'Georgia',\n",
       " 'Latvia',\n",
       " 'New Zealand',\n",
       " 'Montenegro']"
      ]
     },
     "execution_count": 50,
     "metadata": {},
     "output_type": "execute_result"
    }
   ],
   "source": [
    "def country_similarity(country):\n",
    "    cuba_stats = stats_dict['Cuba']\n",
    "    country_stats = stats_dict[country]\n",
    "    \n",
    "    similarity = []\n",
    "    \n",
    "    for key in ['Population', 'Density', 'Fertility', 'Med. age', 'Urban']:\n",
    "        baseline = cuba_stats[key]\n",
    "        value = abs(country_stats[key] - baseline)/baseline\n",
    "        if value == 0:\n",
    "            return 1e50\n",
    "        similarity.append(value)\n",
    "        \n",
    "    return sum(similarity) / len(similarity)\n",
    "\n",
    "all_similarities = {c: country_similarity(c) for c in stats_dict}\n",
    "most_similar_countries = sorted(all_similarities, key=all_similarities.get)[:30]\n",
    "most_similar_countries"
   ]
  },
  {
   "cell_type": "markdown",
   "metadata": {},
   "source": [
    "Veamos ahora los países más \"parecidos\" a Cuba en términos **solamente** de la evolución actual. Nos fijaremos solo en aquellos que tengan al menos `k` días de predicciones más que Cuba."
   ]
  },
  {
   "cell_type": "code",
   "execution_count": 51,
   "metadata": {
    "collapsed": false
   },
   "outputs": [
    {
     "name": "stdout",
     "output_type": "stream",
     "text": [
      "Cuba 0 [3, 3, 4, 4, 4, 5, 7, 11, 16, 25, 35, 40, 48, 57, 67, 80, 119]\n",
      "North Macedonia 0.22636959258794992 [1, 1, 1, 1, 1, 1, 1, 1, 1, 3, 3, 3, 3, 7, 7, 7, 14, 14, 14, 18, 26, 35, 48, 67, 85, 115, 136, 148]\n",
      "Georgia 0.29539720718344764 [1, 1, 1, 1, 3, 3, 3, 3, 4, 4, 4, 13, 15, 15, 24, 24, 25, 30, 33, 33, 34, 38, 40, 43, 49, 54, 61, 70]\n",
      "New Zealand 0.33074220846115554 [1, 1, 1, 1, 1, 3, 3, 4, 5, 5, 5, 5, 5, 5, 5, 6, 8, 8, 12, 20, 28, 39, 52, 102, 102, 155]\n",
      "Belarus 0.3935881756536247 [1, 1, 1, 1, 1, 6, 6, 6, 6, 6, 6, 9, 9, 12, 27, 27, 27, 36, 36, 51, 51, 69, 76, 76, 81, 81]\n",
      "Lithuania 0.41179356250862 [1, 1, 1, 1, 1, 1, 1, 1, 1, 1, 1, 1, 3, 3, 6, 8, 12, 17, 25, 27, 36, 49, 83, 143, 179, 209]\n",
      "Greece 0.427603411802148 [1, 3, 4, 4, 7, 7, 7, 9, 31, 45, 46, 73, 73, 89, 99, 99, 190, 228, 331, 331, 387, 418, 418, 495, 530, 624, 695, 743]\n",
      "Azerbaijan 0.44538300933960584 [3, 3, 3, 3, 6, 6, 9, 9, 9, 11, 11, 11, 15, 15, 23, 28, 28, 28, 44, 44, 53, 65, 72, 87]\n",
      "Croatia 0.48724485565300385 [1, 3, 3, 5, 6, 7, 7, 9, 10, 10, 11, 12, 12, 12, 14, 19, 19, 32, 38, 49, 57, 65, 81, 105, 128, 206, 254, 315, 382]\n",
      "Ireland 0.5049030709611729 [1, 1, 1, 2, 6, 6, 18, 18, 19, 21, 34, 43, 43, 90, 129, 129, 169, 223, 292, 557, 683, 785, 906, 1125, 1329]\n",
      "United Arab Emirates 0.545099298714407 [4, 4, 4, 4, 5, 5, 5, 5, 5, 5, 7, 7, 8, 8, 8, 8, 8, 8, 9, 9, 9, 9, 9, 9, 13, 13, 13, 13, 13, 13, 19, 21, 21, 21, 27, 27, 29, 29, 45, 45, 45, 74, 74, 85, 85, 85, 98, 98, 98, 113, 140, 140, 153, 153, 198, 248]\n"
     ]
    }
   ],
   "source": [
    "exponent=1\n",
    "normalize=True\n",
    "window=15\n",
    "k = 7\n",
    "countries_to_analize = most_similar_countries\n",
    "\n",
    "similarities = {\n",
    "    name: (values, sliding_similarity(values, exponent, normalize, window)) \n",
    "    for name,values in countries_data['paises'].items() \n",
    "    if len(values) >= k + len(ts_cuba)\n",
    "    if name in countries_to_analize\n",
    "}\n",
    "\n",
    "print(\"Cuba\", \"0\", ts_cuba)\n",
    "\n",
    "most_similar_curves = sorted(similarities.items(), key=lambda t: t[1][1])[:10] \n",
    "\n",
    "for i,(values, s) in most_similar_curves:\n",
    "    print(i, s, values)"
   ]
  },
  {
   "cell_type": "markdown",
   "metadata": {},
   "source": [
    "### Forecast\n",
    "\n",
    "Vamos a construir un modelo lineal basado en los días anteriores para predecir cada día posterior.\n",
    "Los parámetros son:\n",
    "\n",
    "* `step_back`: Cuantos días hacia atrás usar como variables características\n",
    "* `skip_fraction`: Eliminar el primer $p$ porciento de los valores \n",
    "* `min_reports`: Cantidad mínima de reportes que debe haber en un día para usarlo\n",
    "* `use_values`: Incluir los valores absolutos en las características\n",
    "* `use_differences`: Incluir las diferencias entre cada par de días consecutivos en las características"
   ]
  },
  {
   "cell_type": "code",
   "execution_count": 52,
   "metadata": {
    "collapsed": true
   },
   "outputs": [],
   "source": [
    "steps_back = 10\n",
    "skip_fraction = 0.1\n",
    "min_reports = 5\n",
    "use_values = True\n",
    "use_diferences = False"
   ]
  },
  {
   "cell_type": "code",
   "execution_count": 53,
   "metadata": {
    "collapsed": true
   },
   "outputs": [],
   "source": [
    "import numpy as np\n",
    "\n",
    "def _extract_features(serie, X=None, y=None):\n",
    "    X = [] if X is None else X\n",
    "    y = [] if y is None else y\n",
    "    \n",
    "    serie = serie[int(skip_fraction * len(serie)):]\n",
    "    \n",
    "    for i in range(steps_back, len(serie)):\n",
    "        features = []\n",
    "        \n",
    "        if serie[i] < min_reports:\n",
    "            continue      \n",
    "            \n",
    "        if use_values:\n",
    "            features.extend(serie[i-steps_back:i])\n",
    "        if use_diferences:\n",
    "            for j in range(i-steps_back+1, i):\n",
    "                features.append(serie[j] - serie[j-1])\n",
    "            \n",
    "        current = serie[i]\n",
    "        \n",
    "        X.append(features)\n",
    "        y.append(current)\n",
    "        \n",
    "    return X, y\n",
    "\n",
    "def extract_features(series):\n",
    "    X = []\n",
    "    y = []\n",
    "    \n",
    "    for country, serie in series.items():\n",
    "        _extract_features(serie, X, y)\n",
    "        \n",
    "    return np.asarray(X), np.asarray(y)\n",
    "\n",
    "X, y = extract_features({\n",
    "    k:v[0] \n",
    "    for k,v in most_similar_curves\n",
    "})"
   ]
  },
  {
   "cell_type": "code",
   "execution_count": 54,
   "metadata": {
    "collapsed": true
   },
   "outputs": [],
   "source": [
    "from sklearn.linear_model import LinearRegression, Ridge, Lasso\n",
    "from sklearn.model_selection import train_test_split"
   ]
  },
  {
   "cell_type": "code",
   "execution_count": 79,
   "metadata": {
    "collapsed": true
   },
   "outputs": [],
   "source": [
    "def build_model():\n",
    "    Xtrain, Xtest, ytrain, ytest = train_test_split(X, y, test_size=0.25)\n",
    "\n",
    "    lr = Lasso(fit_intercept=False, positive=True, max_iter=10000, tol=0.001)\n",
    "    lr.fit(Xtrain, ytrain)\n",
    "\n",
    "    return lr\n",
    "\n",
    "def predict(model, data, n, previous=1):\n",
    "    data = list(data)\n",
    "    result = []\n",
    "\n",
    "    for i in range(n):\n",
    "        data.append(data[-1])\n",
    "        X, y = _extract_features(data)\n",
    "        X = X[-previous:]\n",
    "\n",
    "        ypred = model.predict(X)\n",
    "        result.append(ypred[0])\n",
    "        data[-1] = ypred[0]\n",
    "        \n",
    "    return result"
   ]
  },
  {
   "cell_type": "code",
   "execution_count": 80,
   "metadata": {
    "collapsed": false
   },
   "outputs": [
    {
     "data": {
      "text/plain": [
       "[139.74415762046758,\n",
       " 164.74858896720963,\n",
       " 194.21296259923778,\n",
       " 228.94718397458288,\n",
       " 269.89347696344373,\n",
       " 318.16285169505915,\n",
       " 375.0650120809781]"
      ]
     },
     "execution_count": 80,
     "metadata": {},
     "output_type": "execute_result"
    }
   ],
   "source": [
    "lr = build_model()\n",
    "predict(lr, ts_cuba, 7)"
   ]
  },
  {
   "cell_type": "code",
   "execution_count": 81,
   "metadata": {
    "collapsed": false
   },
   "outputs": [
    {
     "name": "stdout",
     "output_type": "stream",
     "text": [
      "[0.         0.         0.         0.         0.         0.\n",
      " 0.         0.         0.02570966 1.15703685]\n"
     ]
    }
   ],
   "source": [
    "print(lr.coef_)"
   ]
  },
  {
   "cell_type": "code",
   "execution_count": 85,
   "metadata": {
    "collapsed": true
   },
   "outputs": [],
   "source": [
    "serie = ts_cuba\n",
    "previous=1\n",
    "simulations=15\n",
    "\n",
    "Y = []\n",
    "    \n",
    "for i in range(30):    \n",
    "    lr = build_model()\n",
    "    yp = predict(lr, serie, n=simulations, previous=previous)\n",
    "    yp.insert(0, serie[-previous])\n",
    "    Y.append(yp)\n",
    "    \n",
    "Y = np.asarray(Y)"
   ]
  },
  {
   "cell_type": "code",
   "execution_count": 86,
   "metadata": {
    "collapsed": false
   },
   "outputs": [
    {
     "name": "stdout",
     "output_type": "stream",
     "text": [
      "Day 0: 119 (± 0 @ 95%)\n",
      "Day 1: 140 (± 3 @ 95%)\n",
      "Day 2: 164 (± 8 @ 95%)\n",
      "Day 3: 192 (± 14 @ 95%)\n",
      "Day 4: 226 (± 22 @ 95%)\n",
      "Day 5: 265 (± 32 @ 95%)\n",
      "Day 6: 311 (± 45 @ 95%)\n",
      "Day 7: 365 (± 61 @ 95%)\n",
      "Day 8: 428 (± 82 @ 95%)\n",
      "Day 9: 503 (± 108 @ 95%)\n",
      "Day 10: 590 (± 140 @ 95%)\n",
      "Day 11: 693 (± 181 @ 95%)\n",
      "Day 12: 814 (± 232 @ 95%)\n",
      "Day 13: 955 (± 295 @ 95%)\n",
      "Day 14: 1122 (± 373 @ 95%)\n",
      "Day 15: 1318 (± 469 @ 95%)\n"
     ]
    }
   ],
   "source": [
    "ymean = Y.mean(axis=0)\n",
    "ystdv = Y.std(axis=0)\n",
    "\n",
    "ymean, ystdv\n",
    "\n",
    "for i, (x,s) in enumerate(zip(ymean, ystdv)):\n",
    "    print(\"Day %i: %.0f (± %.0f @ 95%%)\" % (i, x, 3*s))"
   ]
  },
  {
   "cell_type": "code",
   "execution_count": 87,
   "metadata": {
    "collapsed": true
   },
   "outputs": [],
   "source": [
    "from matplotlib import pyplot as plt"
   ]
  },
  {
   "cell_type": "markdown",
   "metadata": {},
   "source": [
    "Ploteando la predicción para los próximos dias. La zona gris clara es el 95% de confianza y la zona gris oscura el 50% de confianza."
   ]
  },
  {
   "cell_type": "code",
   "execution_count": 88,
   "metadata": {
    "collapsed": false
   },
   "outputs": [
    {
     "data": {
      "text/plain": [
       "Text(0.5, 1.0, 'Cuba')"
      ]
     },
     "execution_count": 88,
     "metadata": {},
     "output_type": "execute_result"
    },
    {
     "data": {
      "image/png": "[encoded data removed]",
      "text/plain": [
       "<Figure size 432x288 with 1 Axes>"
      ]
     },
     "metadata": {
      "needs_background": "light"
     },
     "output_type": "display_data"
    }
   ],
   "source": [
    "plt.plot(range(1, len(serie)+1), serie)\n",
    "plt.plot(range(len(serie)+1-previous, len(serie)+1+len(ymean)-previous), ymean)\n",
    "plt.fill_between(range(len(serie)+1-previous, len(serie)+1+len(ymean)-previous), \n",
    "                 ymean-ystdv*3, \n",
    "                 ymean+ystdv*3, \n",
    "                 color='lightgrey')\n",
    "plt.fill_between(range(len(serie)+1-previous, len(serie)+1+len(ymean)-previous), \n",
    "                 ymean-ystdv*1.6, \n",
    "                 ymean+ystdv*1.6, \n",
    "                 color='darkgrey')\n",
    "plt.title(\"Cuba\")"
   ]
  },
  {
   "cell_type": "markdown",
   "metadata": {},
   "source": [
    "Probando sin comparar contra la curva corrida"
   ]
  },
  {
   "cell_type": "code",
   "execution_count": null,
   "metadata": {
    "collapsed": true
   },
   "outputs": [],
   "source": [
    "similarities = {\n",
    "    name: (values, similarity(values, exponent, normalize)) \n",
    "    for name,values in countries_data['paises'].items() \n",
    "    if len(values) >= k + len(ts_cuba)\n",
    "    if name in countries_to_analize\n",
    "}\n",
    "\n",
    "print(\"Cuba\", \"0\", ts_cuba)\n",
    "\n",
    "most_similar_curves = sorted(similarities.items(), key=lambda t: t[1][1])[:10] \n",
    "\n",
    "for i,(values, s) in most_similar_curves:\n",
    "    print(i, s, values)"
   ]
  },
  {
   "cell_type": "code",
   "execution_count": null,
   "metadata": {
    "collapsed": true
   },
   "outputs": [],
   "source": [
    "X, y = extract_features({\n",
    "    k:v[0] \n",
    "    for k,v in most_similar_curves\n",
    "})\n",
    "\n",
    "lr = build_model()\n",
    "predict(lr, ts_cuba, simulations)"
   ]
  },
  {
   "cell_type": "code",
   "execution_count": null,
   "metadata": {
    "collapsed": true
   },
   "outputs": [],
   "source": [
    "Y = []\n",
    "    \n",
    "for i in range(30):    \n",
    "    lr = build_model()\n",
    "    yp = predict(lr, serie, n=simulations, previous=previous)\n",
    "    yp.insert(0, serie[-previous])\n",
    "    Y.append(yp)\n",
    "    \n",
    "Y = np.asarray(Y)\n",
    "\n",
    "ymean = Y.mean(axis=0)\n",
    "ystdv = Y.std(axis=0)\n",
    "\n",
    "ymean, ystdv\n",
    "\n",
    "for i, (x,s) in enumerate(zip(ymean, ystdv)):\n",
    "    print(\"Day %i: %.0f (± %.0f @ 95%%)\" % (i, x, 3*s))"
   ]
  },
  {
   "cell_type": "code",
   "execution_count": null,
   "metadata": {
    "collapsed": true
   },
   "outputs": [],
   "source": [
    "plt.plot(range(1, len(serie)+1), serie)\n",
    "plt.plot(range(len(serie)+1-previous, len(serie)+1+len(ymean)-previous), ymean)\n",
    "plt.fill_between(range(len(serie)+1-previous, len(serie)+1+len(ymean)-previous), \n",
    "                 ymean-ystdv*3, \n",
    "                 ymean+ystdv*3, \n",
    "                 color='lightgrey')\n",
    "plt.fill_between(range(len(serie)+1-previous, len(serie)+1+len(ymean)-previous), \n",
    "                 ymean-ystdv*1.6, \n",
    "                 ymean+ystdv*1.6, \n",
    "                 color='darkgrey')\n",
    "plt.title(\"Cuba\")"
   ]
  }
 ],
 "metadata": {
  "kernelspec": {
   "display_name": "Python 2",
   "language": "python",
   "name": "python2"
  },
  "language_info": {
   "codemirror_mode": {
    "name": "ipython",
    "version": 2
   },
   "file_extension": ".py",
   "mimetype": "text/x-python",
   "name": "python",
   "nbconvert_exporter": "python",
   "pygments_lexer": "ipython2",
   "version": "2.7.11"
  }
 },
 "nbformat": 4,
 "nbformat_minor": 4
}
